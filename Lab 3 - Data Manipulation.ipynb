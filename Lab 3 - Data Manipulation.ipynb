{
 "cells": [
  {
   "cell_type": "markdown",
   "metadata": {},
   "source": [
    "# Lab 3 - Data manipulation\n",
    "\n",
    "Last lab we spent some time learning how to add, delete, and change columns in a pandas DataFrame. In this lab we will expand some of that functionality to learn how to use indexes, sort data, and join new data. We'll also learn how to join DataFrames together to create a new dataset."
   ]
  },
  {
   "cell_type": "markdown",
   "metadata": {},
   "source": [
    "Today we are going to work with a sample of the 2015 Federal Election returns data from Elections Canada. You can find the original data from the [Open Canada data](http://open.canada.ca/data/en/dataset/6a919bd5-491e-466e-a279-00cbf7a8e02c) website. Each row of the data feature the vote totals from each polling station for each party, plus the name and number of the election district, and the name and number of the polling station. "
   ]
  },
  {
   "cell_type": "markdown",
   "metadata": {},
   "source": [
    "## Indexing\n",
    "\n",
    "When you load data into pandas, you often will want to use a *unique index* for each record. Some datasets include indexes by default. Each tweet, for instance, has a unique number which is associated with it. Indexing is important because it allows us to access a unique record by referencing a single value."
   ]
  },
  {
   "cell_type": "markdown",
   "metadata": {},
   "source": [
    "If you would like to import your dataset which has an index, you can specify which column features the index. In the case of the elections data, I have created a numerical index for each."
   ]
  },
  {
   "cell_type": "code",
   "execution_count": 1,
   "metadata": {},
   "outputs": [],
   "source": [
    "import pandas as pd\n",
    "import numpy as np\n",
    "\n",
    "df = pd.read_csv('data/election-ca-2015-sample.csv', index_col = 0)"
   ]
  },
  {
   "cell_type": "code",
   "execution_count": null,
   "metadata": {
    "collapsed": true
   },
   "outputs": [],
   "source": [
    "df"
   ]
  },
  {
   "cell_type": "markdown",
   "metadata": {},
   "source": [
    "The bold numbers on the very left of the DataFrame indicate that this is an index. Indexes will come to be important a bit later when we get into joining. Just remember that an index is a *unique identifier* for each row."
   ]
  },
  {
   "cell_type": "markdown",
   "metadata": {},
   "source": [
    "Note: the <code>NaN</code> value is a special value in numpy which indicates that there is missing data. Not that the value equals zero, but that no value was provided to the agency. It may mean the same thing here (we can probably assume no value was provided for Bloc Québécois for polling stations in Ontario because there was no candidate there), but that is not always the case."
   ]
  },
  {
   "cell_type": "markdown",
   "metadata": {},
   "source": [
    "### An aside: keyword arguments\n",
    "\n",
    "Something to notice in `read_csv` with indexes: the is a new type of arguments for this method. So far we have used what are called \"positional arguments\". What that means is that the function is assigning the argument value by the order in the argument list."
   ]
  },
  {
   "cell_type": "code",
   "execution_count": null,
   "metadata": {
    "collapsed": true
   },
   "outputs": [],
   "source": [
    "def powerOf(x, y):\n",
    "    return x**y"
   ]
  },
  {
   "cell_type": "code",
   "execution_count": null,
   "metadata": {
    "collapsed": true
   },
   "outputs": [],
   "source": [
    "powerOf(2, 3)"
   ]
  },
  {
   "cell_type": "markdown",
   "metadata": {},
   "source": [
    "However, we can also use \"keyword arguments\", which means arguments do not depend on order, but on the keyword we give before it."
   ]
  },
  {
   "cell_type": "code",
   "execution_count": null,
   "metadata": {
    "collapsed": true
   },
   "outputs": [],
   "source": [
    "powerOf(y = 3, x = 2)"
   ]
  },
  {
   "cell_type": "markdown",
   "metadata": {},
   "source": [
    "This is really useful when a function or a method has many, many possible arguments, like `read_csv` does. For instance, in pandas 0.22, these are all the different arguments possible for `read_csv`."
   ]
  },
  {
   "cell_type": "markdown",
   "metadata": {},
   "source": [
    "![](img/pandas-arguments-0.22.png)"
   ]
  },
  {
   "cell_type": "markdown",
   "metadata": {},
   "source": [
    "It would be a real drag if, to set `index_col`, you had to type `pd.read_csv('filename.csv', ',', None, 'infer', None, 0)`. Hence, keyword arguments were created."
   ]
  },
  {
   "cell_type": "markdown",
   "metadata": {},
   "source": [
    "#### Exercise 1\n",
    "\n",
    "1. Load the toy example in `data/test_data.csv` by finishing the line below. This takes two keyword arguments, `index_col`, which should be set to 0, and `skiprows`, which should be set to 3.\n",
    "2. What is the name of the index column?"
   ]
  },
  {
   "cell_type": "code",
   "execution_count": null,
   "metadata": {
    "collapsed": true
   },
   "outputs": [],
   "source": [
    "toy_example = pd.read_csv('data/test_data.csv', ____ = _, ____ = _)"
   ]
  },
  {
   "cell_type": "markdown",
   "metadata": {},
   "source": [
    "## Sorting\n",
    "\n",
    "Sorting is a relatively common activity for looking into data. If we, say, want to see which polling stations had the most votes for the Liberal party, we can do the following."
   ]
  },
  {
   "cell_type": "code",
   "execution_count": null,
   "metadata": {
    "collapsed": true
   },
   "outputs": [],
   "source": [
    "df.sort_values('Liberal Party of Canada')"
   ]
  },
  {
   "cell_type": "markdown",
   "metadata": {},
   "source": [
    "By default this will sort values in ascending order (as in, going up). If we want them to be going down, we can do pass a keyword argument for that."
   ]
  },
  {
   "cell_type": "code",
   "execution_count": null,
   "metadata": {
    "collapsed": true
   },
   "outputs": [],
   "source": [
    "df.sort_values('Liberal Party of Canada', ascending = False)"
   ]
  },
  {
   "cell_type": "markdown",
   "metadata": {},
   "source": [
    "## Type conversion\n",
    "\n",
    "It is typically the case in which we want to convert a column from one type to another. For instance, in the DataFrame, <code>ElectoralDistrictNumber</code> is an identifier rather than a meaningful quantitative measure. So it may make sense to store it as a string rather than a number. We can do the conversion with <code>astype</code>."
   ]
  },
  {
   "cell_type": "code",
   "execution_count": null,
   "metadata": {
    "collapsed": true
   },
   "outputs": [],
   "source": [
    "df['ElectoralDistrictNumber_str'] = df['ElectoralDistrictNumber'].astype(str)  "
   ]
  },
  {
   "cell_type": "code",
   "execution_count": null,
   "metadata": {
    "collapsed": true
   },
   "outputs": [],
   "source": [
    "df.dtypes"
   ]
  },
  {
   "cell_type": "markdown",
   "metadata": {},
   "source": [
    "#### Exercise 2\n",
    "\n",
    "You will be working with a sample of tweets which mention Canadian Tire. The file can be found at <code>data/canadian-tire-twitter-sample.csv</code>.\n",
    "\n",
    "1. Load the file into a `DataFrame` called `df_ct` with an index column. The index is located in column 0.\n",
    "2. Look at the columns. Find the column which contains datetime information. Sort the data by the datetime it was tweeted.\n",
    "3. Convert the user IDs to strings."
   ]
  },
  {
   "cell_type": "markdown",
   "metadata": {},
   "source": [
    "## Joining data\n",
    "\n",
    "![](img/img_innerjoin.gif)\n",
    "\n",
    "One common task of handling data is joining elements of data from other sources together. Say you have data on Census tracts from one Census table, and you want to connect them with data from another Census table. This is where joining comes in.\n",
    "\n",
    "pandas uses [SQL-style joins](http://www.sql-join.com/). SQL can get very complicated. For now, what you should know is that the default is an inner join. What that means is that pandas will join two tables together only if the records exist in both table 1 and table 2. pandas also will join, by default, on the DataFrame index. In the example below, the index lists are identical, so both DataFrames will stay the same size."
   ]
  },
  {
   "cell_type": "code",
   "execution_count": null,
   "metadata": {
    "collapsed": true
   },
   "outputs": [],
   "source": [
    "df_rejected = pd.read_csv('data/election-ca-2015-sample-total-rejected.csv', index_col = 0)\n",
    "df_joined = df.join(df_rejected)"
   ]
  },
  {
   "cell_type": "code",
   "execution_count": null,
   "metadata": {
    "collapsed": true
   },
   "outputs": [],
   "source": [
    "df_joined.shape"
   ]
  },
  {
   "cell_type": "markdown",
   "metadata": {},
   "source": [
    "## Grouping: split-apply-combine\n",
    "\n",
    "![](https://camo.githubusercontent.com/60a1e7e95eaef8f9a99f43335368915eafedda3e/687474703a2f2f7777772e686f66726f652e6e65742f737461743537392f736c696465732f73706c69742d6170706c792d636f6d62696e652e706e67) \n",
    "\n",
    "[[image source](https://github.com/ramnathv/rblocks/issues/8)]\n",
    "\n",
    "One of the more powerful idioms available to you with pandas is the split-apply-combine idiom.\n",
    "\n",
    "The idea is that you group rows together based on shared values. In the image above, grouping is done on the x variable. Then you apply some function to that value. In this case, it is the mean. Afterward, those values are recombined into a single DataFrame.\n",
    "\n",
    "The <code>groupby</code> method allows you to do this with ease in Python. You provide a variable you'd like to group on. This produces a <code>groupby</code> object. From there, you can apply built-in functions like mean or even function of your own design."
   ]
  },
  {
   "cell_type": "code",
   "execution_count": null,
   "metadata": {
    "collapsed": true
   },
   "outputs": [],
   "source": [
    "gr = df.groupby('Province')"
   ]
  },
  {
   "cell_type": "code",
   "execution_count": null,
   "metadata": {
    "collapsed": true
   },
   "outputs": [],
   "source": [
    "gr['New Democratic Party'].mean()"
   ]
  },
  {
   "cell_type": "code",
   "execution_count": null,
   "metadata": {
    "collapsed": true
   },
   "outputs": [],
   "source": [
    "gr['New Democratic Party'].sum()"
   ]
  },
  {
   "cell_type": "markdown",
   "metadata": {},
   "source": [
    "## Applying functions\n",
    "\n",
    "Lastly, if we want to apply a function every row of the DataFrame, or perhaps every value of a column, we can use <code>apply</code>. <code>apply</code> tells pandas that it wants to apply a function to every value of the object. For now, let's focus on applying to columns.\n",
    "\n",
    "Say we want to calculate what percentage of the Liberal vote was achieved at the polling station. We can do that by using column math, like below."
   ]
  },
  {
   "cell_type": "code",
   "execution_count": null,
   "metadata": {
    "collapsed": true
   },
   "outputs": [],
   "source": [
    "df_joined['ratio_liberal'] = df_joined['Liberal Party of Canada'] / df_joined['TotalVotes']"
   ]
  },
  {
   "cell_type": "code",
   "execution_count": null,
   "metadata": {
    "collapsed": true
   },
   "outputs": [],
   "source": [
    "df_joined['ratio_liberal'].mean()"
   ]
  },
  {
   "cell_type": "markdown",
   "metadata": {},
   "source": [
    "However, some of these are going to be <code>NaN</code>, since some stations didn't report any Liberal votes."
   ]
  },
  {
   "cell_type": "code",
   "execution_count": null,
   "metadata": {
    "collapsed": true
   },
   "outputs": [],
   "source": [
    "df_joined[np.isnan(df_joined['Liberal Party of Canada'])]"
   ]
  },
  {
   "cell_type": "markdown",
   "metadata": {},
   "source": [
    "But those are effectively zero. We can convert those to zero with a function we define, called <code>nanToZero</code>. What this does is check if the value is <code>NaN</code>. If it is, then it returns 0. If not, it returns the original value."
   ]
  },
  {
   "cell_type": "code",
   "execution_count": null,
   "metadata": {
    "collapsed": true
   },
   "outputs": [],
   "source": [
    "def nanToZero(x):\n",
    "    if np.isnan(x):\n",
    "        return 0\n",
    "    else:\n",
    "        return x"
   ]
  },
  {
   "cell_type": "markdown",
   "metadata": {},
   "source": [
    "We run apply on the new column to do the conversion."
   ]
  },
  {
   "cell_type": "code",
   "execution_count": null,
   "metadata": {
    "collapsed": true
   },
   "outputs": [],
   "source": [
    "df_joined['Liberal Party of Canada'] = df_joined['Liberal Party of Canada'].apply(nanToZero)"
   ]
  },
  {
   "cell_type": "markdown",
   "metadata": {},
   "source": [
    "Let's check if there are any more columns which are equal to `NaN`."
   ]
  },
  {
   "cell_type": "code",
   "execution_count": null,
   "metadata": {
    "collapsed": true
   },
   "outputs": [],
   "source": [
    "df_joined[np.isnan(df_joined['Liberal Party of Canada'])]"
   ]
  },
  {
   "cell_type": "markdown",
   "metadata": {},
   "source": [
    "Now, let's calculate a new Liberal party ratio."
   ]
  },
  {
   "cell_type": "code",
   "execution_count": null,
   "metadata": {
    "collapsed": true
   },
   "outputs": [],
   "source": [
    "df_joined['ratio_liberal_with_zero'] = df_joined['Liberal Party of Canada'] / df_joined['TotalVotes']"
   ]
  },
  {
   "cell_type": "code",
   "execution_count": null,
   "metadata": {
    "collapsed": true
   },
   "outputs": [],
   "source": [
    "df_joined['ratio_liberal_with_zero'].mean()"
   ]
  },
  {
   "cell_type": "markdown",
   "metadata": {},
   "source": [
    "This should report a Liberal party ratio which is slightly lower than the one reported above. This may make much less difference for the mean than it does the range of values that each polling station takes on.\n",
    "\n",
    "As a preview of two weeks fro now, we can do a histogram plot of both the `ratio_liberal` and `ration_liberal_with_zero` variables."
   ]
  },
  {
   "cell_type": "code",
   "execution_count": null,
   "metadata": {
    "collapsed": true
   },
   "outputs": [],
   "source": [
    "import matplotlib\n",
    "import matplotlib.pyplot as plt\n",
    "%matplotlib inline\n",
    "matplotlib.style.use('ggplot')\n",
    "\n",
    "df_joined[['ratio_liberal', 'ratio_liberal_with_zero']].hist(bins = 100)"
   ]
  },
  {
   "cell_type": "markdown",
   "metadata": {},
   "source": [
    "#### Exercise 3\n",
    "\n",
    "1. Join the existing DataFrame to a new DataFrame loaded from the file <code>data/canadian-tire-twitter-sample-pos-neg.csv</code>. This new DataFrame includes counts of positive and negative words within the tweet. Store the new DataFrame in a DataFrame called `df_ct_joined`.\n",
    "2. Look at the new DataFrame. Which columns seem to contain the number of positive and negative words in the tweet?\n",
    "2. This following code should generate the average number of positive and negative words per month. Add to the code below."
   ]
  },
  {
   "cell_type": "code",
   "execution_count": null,
   "metadata": {
    "collapsed": true
   },
   "outputs": [],
   "source": [
    "df_ct_joined['date'] = df_ct_joined['created_at'].str.split(expand = True)[0]\n",
    "df_ct_joined['month'] = df_ct_joined['date'].str.slice(0, 7)\n",
    "## Code goes here"
   ]
  }
 ],
 "metadata": {
  "anaconda-cloud": {},
  "kernelspec": {
   "display_name": "Python 3",
   "language": "python",
   "name": "python3"
  },
  "language_info": {
   "codemirror_mode": {
    "name": "ipython",
    "version": 3
   },
   "file_extension": ".py",
   "mimetype": "text/x-python",
   "name": "python",
   "nbconvert_exporter": "python",
   "pygments_lexer": "ipython3",
   "version": "3.6.3"
  }
 },
 "nbformat": 4,
 "nbformat_minor": 1
}
